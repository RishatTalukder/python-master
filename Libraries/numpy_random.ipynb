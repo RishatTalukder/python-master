{
 "cells": [
  {
   "cell_type": "markdown",
   "metadata": {},
   "source": [
    "# Numpy Random\n",
    "\n",
    "## What is Numpy?\n",
    "\n",
    "`Numpy` is a `python` `library` used for working with `arrays`. It also has functions for working in the domain of `linear algebra`, `fourier transform`, and `matrices`. `Numpy` was created in 2005 by Travis Oliphant. It is an `open source` project and you can use it freely.\n",
    "\n",
    "`Numpy` is the actual core library for `scientific computing` in `Python`. It provides a high-performance multidimensional array object and tools for working with these arrays. If you are already familiar with MATLAB, you might find this tutorial useful to get started with `Numpy`.\n",
    "\n",
    "`Numpy` almost exactly works the same as `python standard lists` but it is faster and more efficient because of the way it stores and handles data.\n",
    "\n",
    "Before we go deep into `Numpy random` module, let's first just get a gilps of basic of `Numpy` library.\n",
    "\n",
    "### Installation\n",
    "\n",
    "If you have `Python` and `pip` already installed on a system, then installation of `Numpy` is very easy.\n",
    "\n",
    "Install it using this command:\n",
    "\n",
    "```python\n",
    "pip install numpy\n",
    "```\n",
    "\n",
    "if you are using conda, you can install it using this command:\n",
    "\n",
    "```python\n",
    "conda install numpy\n",
    "```\n",
    "\n",
    "### Import Numpy"
   ]
  },
  {
   "cell_type": "code",
   "execution_count": 2,
   "metadata": {},
   "outputs": [],
   "source": [
    "import numpy as np"
   ]
  },
  {
   "cell_type": "markdown",
   "metadata": {},
   "source": [
    "now we can make a `numpy` array or transform a `python list` into a `numpy` array."
   ]
  },
  {
   "cell_type": "code",
   "execution_count": 3,
   "metadata": {},
   "outputs": [],
   "source": [
    "np_array = np.array([1,2,3,4,5,6,7,8,9,10])"
   ]
  },
  {
   "cell_type": "code",
   "execution_count": 5,
   "metadata": {},
   "outputs": [
    {
     "name": "stdout",
     "output_type": "stream",
     "text": [
      "<class 'numpy.ndarray'>\n"
     ]
    }
   ],
   "source": [
    "print(type(np_array))"
   ]
  },
  {
   "cell_type": "markdown",
   "metadata": {},
   "source": [
    "Now we can do all the operations that we can do with a python list in a `numpy` array."
   ]
  },
  {
   "cell_type": "code",
   "execution_count": 6,
   "metadata": {},
   "outputs": [
    {
     "name": "stdout",
     "output_type": "stream",
     "text": [
      "shape of the array: (10,)\n",
      "data type of the array: int64\n",
      "number of dimensions of the array: 1\n",
      "size of the array: 10\n",
      "item size of the array: 8\n",
      "number of bytes of the array: 80\n",
      "element at index 0: 1\n",
      "element at index 1: 2\n",
      "slice from index 0 to 5: [1 2 3 4 5]\n",
      "slice from index 5 to end: [ 6  7  8  9 10]\n",
      "slice from index 0 to 5 with step 2: [1 3 5]\n",
      "reverse the array: [10  9  8  7  6  5  4  3  2  1]\n"
     ]
    }
   ],
   "source": [
    "#demo of functionalities of a numpy array\n",
    "print(f'shape of the array: {np_array.shape}') #shape of the array\n",
    "print(f'data type of the array: {np_array.dtype}') #data type of the array\n",
    "print(f'number of dimensions of the array: {np_array.ndim}') #number of dimensions of the array\n",
    "print(f'size of the array: {np_array.size}') #size of the array\n",
    "print(f'item size of the array: {np_array.itemsize}') #item size of the array\n",
    "print(f'number of bytes of the array: {np_array.nbytes}') #number of bytes of the array\n",
    "\n",
    "#demo of indexing and slicing\n",
    "print(f'element at index 0: {np_array[0]}') #element at index 0\n",
    "print(f'element at index 1: {np_array[1]}') #element at index 1\n",
    "print(f'slice from index 0 to 5: {np_array[0:5]}') #slice from index 0 to 5\n",
    "print(f'slice from index 5 to end: {np_array[5:]}') #slice from index 5 to end\n",
    "print(f'slice from index 0 to 5 with step 2: {np_array[0:5:2]}') #slice from index 0 to 5 with step 2\n",
    "print(f'reverse the array: {np_array[::-1]}') #reverse the array"
   ]
  },
  {
   "cell_type": "markdown",
   "metadata": {},
   "source": [
    "These are some of the basic operations that we can do in both `python list` and `numpy array`.\n",
    "\n",
    "## What is Numpy Random?\n",
    "\n",
    "`Numpy` has a `random` module that provides a set of functions for generating random numbers. These functions are used for generating random numbers from various probability distributions."
   ]
  },
  {
   "cell_type": "code",
   "execution_count": null,
   "metadata": {},
   "outputs": [],
   "source": []
  }
 ],
 "metadata": {
  "kernelspec": {
   "display_name": "base",
   "language": "python",
   "name": "python3"
  },
  "language_info": {
   "codemirror_mode": {
    "name": "ipython",
    "version": 3
   },
   "file_extension": ".py",
   "mimetype": "text/x-python",
   "name": "python",
   "nbconvert_exporter": "python",
   "pygments_lexer": "ipython3",
   "version": "3.12.3"
  }
 },
 "nbformat": 4,
 "nbformat_minor": 2
}
