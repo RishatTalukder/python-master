{
 "cells": [
  {
   "cell_type": "code",
   "execution_count": 1,
   "metadata": {},
   "outputs": [],
   "source": [
    "import numpy as np\n",
    "from numpy import random "
   ]
  },
  {
   "cell_type": "code",
   "execution_count": 2,
   "metadata": {},
   "outputs": [
    {
     "data": {
      "text/plain": [
       "array([43, 99, 44, 87, 75])"
      ]
     },
     "execution_count": 2,
     "metadata": {},
     "output_type": "execute_result"
    }
   ],
   "source": [
    "x = random.randint(100, size=(5))\n",
    "x"
   ]
  },
  {
   "cell_type": "code",
   "execution_count": 3,
   "metadata": {},
   "outputs": [
    {
     "data": {
      "text/plain": [
       "87"
      ]
     },
     "execution_count": 3,
     "metadata": {},
     "output_type": "execute_result"
    }
   ],
   "source": [
    "x[3]"
   ]
  },
  {
   "cell_type": "code",
   "execution_count": 4,
   "metadata": {},
   "outputs": [],
   "source": [
    "x = random.rand()"
   ]
  },
  {
   "cell_type": "code",
   "execution_count": 5,
   "metadata": {},
   "outputs": [
    {
     "data": {
      "text/plain": [
       "0.19742896129581156"
      ]
     },
     "execution_count": 5,
     "metadata": {},
     "output_type": "execute_result"
    }
   ],
   "source": [
    "x"
   ]
  },
  {
   "cell_type": "code",
   "execution_count": 6,
   "metadata": {},
   "outputs": [],
   "source": [
    "x = random.rand(5)"
   ]
  },
  {
   "cell_type": "code",
   "execution_count": 7,
   "metadata": {},
   "outputs": [
    {
     "data": {
      "text/plain": [
       "array([0.82360224, 0.98173313, 0.6515257 , 0.143961  , 0.49262729])"
      ]
     },
     "execution_count": 7,
     "metadata": {},
     "output_type": "execute_result"
    }
   ],
   "source": [
    "x"
   ]
  },
  {
   "cell_type": "code",
   "execution_count": 8,
   "metadata": {},
   "outputs": [
    {
     "data": {
      "text/plain": [
       "array([[9.13220031e-01, 7.14573418e-01, 1.96193792e-01, 9.23646898e-01,\n",
       "        2.12188839e-01],\n",
       "       [5.81821382e-02, 2.04736962e-01, 7.94237002e-01, 3.00520906e-02,\n",
       "        7.29455120e-01],\n",
       "       [7.63523546e-01, 7.26583916e-01, 8.07804281e-01, 2.38214186e-02,\n",
       "        1.73236668e-01],\n",
       "       [1.01306241e-02, 5.08169859e-01, 3.99207663e-01, 6.26545080e-01,\n",
       "        5.90612779e-01],\n",
       "       [2.69306189e-01, 4.17530069e-02, 3.33302126e-01, 8.45362407e-01,\n",
       "        2.10418552e-01],\n",
       "       [9.13306725e-01, 7.37872439e-01, 8.65626106e-01, 2.54749211e-01,\n",
       "        7.81409869e-01],\n",
       "       [4.55223103e-01, 1.80093880e-01, 4.33760451e-01, 6.78729158e-02,\n",
       "        6.04622916e-01],\n",
       "       [2.81162710e-01, 8.34479472e-01, 2.88935298e-01, 2.63810098e-01,\n",
       "        3.92982768e-01],\n",
       "       [5.50945662e-01, 2.03937954e-01, 5.75154275e-04, 9.92597629e-01,\n",
       "        6.02605423e-01],\n",
       "       [5.86453597e-01, 6.15499322e-01, 2.64247809e-01, 6.64604677e-01,\n",
       "        8.49068814e-01]])"
      ]
     },
     "execution_count": 8,
     "metadata": {},
     "output_type": "execute_result"
    }
   ],
   "source": [
    "x = random.rand(10,5)\n",
    "x"
   ]
  },
  {
   "cell_type": "code",
   "execution_count": 9,
   "metadata": {},
   "outputs": [
    {
     "data": {
      "text/plain": [
       "array([[308, 189, 512, 108, 713,  41, 416, 116, 665, 214, 114],\n",
       "       [150, 935, 415, 215, 776, 340, 633, 759, 480, 504, 324],\n",
       "       [674, 906, 667,  80, 435, 431, 303,  95, 257, 607, 139],\n",
       "       [381, 596, 387, 475, 315,  17, 575, 625, 395, 897, 528],\n",
       "       [624, 274, 860,  28, 675, 356, 467, 860, 743, 176, 592],\n",
       "       [394, 148, 826, 130, 212, 997, 483,  30,  35, 733, 927],\n",
       "       [422,  78, 399, 425, 695, 660, 285, 802, 749, 142, 546],\n",
       "       [169, 681, 407, 280, 922, 887, 273, 167, 662,  88, 814],\n",
       "       [713, 874, 764, 560, 311, 819,   3, 354, 799, 633, 559],\n",
       "       [186, 464, 642, 536, 390, 253, 881, 657, 239, 965, 352]])"
      ]
     },
     "execution_count": 9,
     "metadata": {},
     "output_type": "execute_result"
    }
   ],
   "source": [
    "x = random.randint(1000, size=(10,11))\n",
    "x"
   ]
  },
  {
   "cell_type": "code",
   "execution_count": 10,
   "metadata": {},
   "outputs": [
    {
     "data": {
      "text/plain": [
       "array([[5, 5, 7, 3],\n",
       "       [7, 3, 9, 7],\n",
       "       [9, 7, 7, 7],\n",
       "       [3, 9, 5, 9]])"
      ]
     },
     "execution_count": 10,
     "metadata": {},
     "output_type": "execute_result"
    }
   ],
   "source": [
    "x = random.choice([3, 5, 7, 9],size=(4,4))\n",
    "x"
   ]
  },
  {
   "cell_type": "code",
   "execution_count": 11,
   "metadata": {},
   "outputs": [
    {
     "data": {
      "text/plain": [
       "array([[7, 3, 7, ..., 5, 7, 7],\n",
       "       [7, 7, 3, ..., 3, 3, 3],\n",
       "       [3, 3, 3, ..., 7, 3, 3],\n",
       "       ...,\n",
       "       [5, 3, 3, ..., 7, 3, 7],\n",
       "       [7, 7, 7, ..., 5, 7, 5],\n",
       "       [7, 3, 7, ..., 3, 3, 3]])"
      ]
     },
     "execution_count": 11,
     "metadata": {},
     "output_type": "execute_result"
    }
   ],
   "source": [
    "x = random.choice([3, 5, 7, 9],size=(1000,1000), p=[.5,.05,.44,.01])\n",
    "x"
   ]
  },
  {
   "cell_type": "code",
   "execution_count": 12,
   "metadata": {},
   "outputs": [
    {
     "data": {
      "text/plain": [
       "array([1, 2, 3, 4, 5])"
      ]
     },
     "execution_count": 12,
     "metadata": {},
     "output_type": "execute_result"
    }
   ],
   "source": [
    "arr = np.array([1, 2, 3, 4, 5])\n",
    "arr"
   ]
  },
  {
   "cell_type": "code",
   "execution_count": 13,
   "metadata": {},
   "outputs": [
    {
     "data": {
      "text/plain": [
       "array([2, 1, 5, 3, 4])"
      ]
     },
     "execution_count": 13,
     "metadata": {},
     "output_type": "execute_result"
    }
   ],
   "source": [
    "random.shuffle(arr)\n",
    "arr"
   ]
  },
  {
   "cell_type": "code",
   "execution_count": 14,
   "metadata": {},
   "outputs": [
    {
     "data": {
      "text/plain": [
       "array([5, 4, 3, 2, 1])"
      ]
     },
     "execution_count": 14,
     "metadata": {},
     "output_type": "execute_result"
    }
   ],
   "source": [
    "arr = np.array([1, 2, 3, 4, 5])\n",
    "random.permutation(arr)"
   ]
  },
  {
   "cell_type": "code",
   "execution_count": 15,
   "metadata": {},
   "outputs": [
    {
     "data": {
      "text/plain": [
       "array([1, 2, 3, 4, 5])"
      ]
     },
     "execution_count": 15,
     "metadata": {},
     "output_type": "execute_result"
    }
   ],
   "source": [
    "arr"
   ]
  },
  {
   "cell_type": "code",
   "execution_count": 16,
   "metadata": {},
   "outputs": [
    {
     "data": {
      "text/plain": [
       "array([[-0.2141473 ,  0.21980932, -0.16617882,  2.25770737],\n",
       "       [-0.52231158,  1.13274733,  1.03042484,  1.04804642],\n",
       "       [-2.82139875, -0.7952053 ,  2.27174325, -0.18332208],\n",
       "       [-0.76464468, -0.89489083,  0.15632646, -0.6521177 ]])"
      ]
     },
     "execution_count": 16,
     "metadata": {},
     "output_type": "execute_result"
    }
   ],
   "source": [
    "x = random.normal(size=(4,4))\n",
    "x"
   ]
  },
  {
   "cell_type": "code",
   "execution_count": 21,
   "metadata": {},
   "outputs": [
    {
     "data": {
      "text/plain": [
       "<Axes: ylabel='Count'>"
      ]
     },
     "execution_count": 21,
     "metadata": {},
     "output_type": "execute_result"
    },
    {
     "data": {
      "image/png": "[encoded data removed]",
      "text/plain": [
       "<Figure size 640x480 with 1 Axes>"
      ]
     },
     "metadata": {},
     "output_type": "display_data"
    }
   ],
   "source": [
    "import seaborn as sns\n",
    "sns.histplot(random.normal(size=1000), kde=True, )"
   ]
  },
  {
   "cell_type": "code",
   "execution_count": null,
   "metadata": {},
   "outputs": [],
   "source": []
  }
 ],
 "metadata": {
  "kernelspec": {
   "display_name": "base",
   "language": "python",
   "name": "python3"
  },
  "language_info": {
   "codemirror_mode": {
    "name": "ipython",
    "version": 3
   },
   "file_extension": ".py",
   "mimetype": "text/x-python",
   "name": "python",
   "nbconvert_exporter": "python",
   "pygments_lexer": "ipython3",
   "version": "3.11.0"
  }
 },
 "nbformat": 4,
 "nbformat_minor": 2
}
