{
 "cells": [
  {
   "cell_type": "markdown",
   "metadata": {},
   "source": [
    "This is a Deep Dive Into  Object Oriented Programming with `Python`.\n",
    "\n",
    "In python everything is an object. For example, a `list` is an object, a `dict` is an object, a `function` is an object, a `class` is an object, etc."
   ]
  },
  {
   "cell_type": "code",
   "execution_count": 44,
   "metadata": {},
   "outputs": [
    {
     "name": "stdout",
     "output_type": "stream",
     "text": [
      "<class 'str'>\n",
      "<class 'list'>\n",
      "<class 'dict'>\n"
     ]
    }
   ],
   "source": [
    "name = \"john\"\n",
    "demo_list = [1, 2, 3]\n",
    "demo_dict = {\"name\": \"john\", \"age\": 22}\n",
    "print(type(name))\n",
    "print(type(demo_list))\n",
    "print(type(demo_dict))"
   ]
  },
  {
   "cell_type": "markdown",
   "metadata": {},
   "source": [
    "As you can see Every assignment in python is a type `class <'name_of_the_class'>`.\n",
    "\n",
    "Meaning when we are creating a `variable` we are creating an `instance` of a `class`.\n",
    "\n",
    "NYou might not understand what I am saying, but don't worry, you will understand it by the end of this tutorial. But name terminology like `instance`, `class`, `object` are very important in `OOP`. Keep them in mind we will be using them a lot.\n",
    "\n",
    "So, let's start with the basics.\n",
    "\n",
    "# Class"
   ]
  },
  {
   "cell_type": "code",
   "execution_count": 45,
   "metadata": {},
   "outputs": [],
   "source": [
    "class Person:\n",
    "    pass"
   ]
  },
  {
   "cell_type": "markdown",
   "metadata": {},
   "source": [
    "Here is a class called `Person`. This is `refered` to as an `object` in `OOP`.\n",
    "\n",
    "So, we can say that this is an `object` type called `Person` . Also always try to name your class with a `capital` letter.\n",
    "now try to print the store the class in a variable and print it.\n",
    "\n"
   ]
  },
  {
   "cell_type": "code",
   "execution_count": 46,
   "metadata": {},
   "outputs": [
    {
     "name": "stdout",
     "output_type": "stream",
     "text": [
      "<class '__main__.Person'>\n"
     ]
    }
   ],
   "source": [
    "steve = Person() # to store a class in a variable. we need to put a pair of parentheses after the class name\n",
    "print(type(steve))"
   ]
  },
  {
   "cell_type": "markdown",
   "metadata": {},
   "source": [
    "`<class '__main__.Person'>` is the `type` of the `class` `Person`. as we say for the `list` `type` is `list` and for `dict` `type` is `dict`.\n",
    "\n",
    "So, this is a prove that everything is an `object` in `python`.\n",
    "\n",
    "Now, let's talk about `instance` of a `class`.\n",
    "\n",
    "When we create a `variable` we are creating an `instance` of a `class`. We can also call it a `reference` to a `class`."
   ]
  },
  {
   "cell_type": "code",
   "execution_count": 47,
   "metadata": {},
   "outputs": [
    {
     "name": "stdout",
     "output_type": "stream",
     "text": [
      "<__main__.Person object at 0x7fbb741e3370>\n",
      "<__main__.Person object at 0x7fbb74487d00>\n"
     ]
    }
   ],
   "source": [
    "steve = Person() # this is a new instance of the Person class or a reference to the Person class\n",
    "john = Person() #  thsi is also a instance of the Person class.\n",
    "print(steve)\n",
    "print(john)"
   ]
  },
  {
   "cell_type": "markdown",
   "metadata": {},
   "source": [
    "`<__main__.Person object at 0x7fbb74487670>` and `<__main__.Person object at 0x7fbb745612d0>` holds some very important information about the `instance` of the `class`.\n",
    "\n",
    "`<__main__.Person object at 0x7fbb74487670>` is the `address` of the `instance` of the `class` in the `memory`.\n",
    "So, this means steve is a `reference` to the `class` `Person` and it is stored in the `memory` at the `address` `0x7fbb74487670`.\n",
    "\n",
    "And `<__main__.Person object at 0x7fbb745612d0>`  means that `John` is a `reference` to the `class` `Person` and it is stored in the `memory` at the `address` `0x7fbb745612d0`.\n",
    "\n",
    "I did showed you this to make you understand that when we create a `variable` we are creating an `instance` of a `class` and that `instance` is stored in the `memory` at a particular `address` and not just in the `variable`.\n",
    "\n",
    "next...\n",
    "\n",
    "<h1> __init__ method </h1>"
   ]
  },
  {
   "cell_type": "code",
   "execution_count": 48,
   "metadata": {},
   "outputs": [],
   "source": [
    "class Person:\n",
    "    def __init__(self):\n",
    "        pass"
   ]
  },
  {
   "cell_type": "markdown",
   "metadata": {},
   "source": [
    "`__init__` is a `method` in `python classes` which is called when we create an `instance` of a `class`. It is also called a `constructor` in other programming languages.\n",
    "\n",
    "`__init__`  is a `method` but we don't need to call it. It is called automatically when we create an `instance` of a `class`.\n",
    "\n",
    "It's like starting a `car`. When we start a `car` the `engine` starts and the `car` is ready to go. Same is with the `__init__` method. When we create an `instance` of a `class` the `__init__` method is called and the `instance` is ready to go. \n",
    "\n",
    "and there is `self` is a `parameter` in the `__init__` method. It is used to access the `variables` and `functions` of the `class` in the `class`."
   ]
  },
  {
   "cell_type": "code",
   "execution_count": 49,
   "metadata": {},
   "outputs": [],
   "source": [
    "class Person:\n",
    "    def __init__(self,):\n",
    "        pass\n",
    "\n",
    "steve = Person() # here the __init__ method is called automatically we don't need to do Person.__init__()"
   ]
  },
  {
   "cell_type": "markdown",
   "metadata": {},
   "source": [
    "To make thing clearer"
   ]
  },
  {
   "cell_type": "code",
   "execution_count": 50,
   "metadata": {},
   "outputs": [
    {
     "name": "stdout",
     "output_type": "stream",
     "text": [
      "Steve\n",
      "22\n"
     ]
    }
   ],
   "source": [
    "class Person:\n",
    "    def __init__(self, name, age):\n",
    "        self.name = name\n",
    "        self.age = age\n",
    "\n",
    "steve = Person(\"Steve\", 22)\n",
    "\n",
    "print(steve.name)\n",
    "print(steve.age)"
   ]
  },
  {
   "cell_type": "markdown",
   "metadata": {},
   "source": [
    "So, here's a `class` called `Person` and it has a `__init__` method. \n",
    "\n",
    "the `__init__` method has a `parameter` called `self` and two other `parameters` called `name` and `age`.\n",
    "\n",
    "I said them separated because you can ignore the `self` `parameter` but you can't ignore the `name` and `age` `parameters`.\n",
    "\n",
    "thats why in line 8 we are passing `name` and `age` as `arguments` to the `__init__` method. In this case `Person('Steve', 22)` is the `instance` of the `class` `Person`. Because `__init__` is not needed to be called manually.\n",
    "\n",
    "So, when i passed `name` and `age` as `arguments` to the `Person` class the values go to the `__init__` methods `name` and `age` `parameters`. Not in the `self` `parameter`.\n",
    "\n",
    "Now, time to learn about the `self` `parameter`.\n",
    "\n",
    "`self` parameter is used to store and access a `variable` or a `function` of an `instance` of a `class`.\n",
    "\n",
    "Meaning if we want to access the `name` and `age` `variables` of the `instance` of the `class` we can use `self.name` and `self.age`. (dot operator is used to access the `variables` and `functions` of a `class`)\n",
    "\n",
    "Then we can use those `variables` anywhere inside the `class`. But the is a rule we have to follow which we will learn in a minute.\n",
    "\n",
    "We can also use them outside the `class` but we have to replace `self` with the name of the `instance` of the `class`. Just like we did in line 8 and 9.\n",
    "\n",
    "We stored the value in `self.name` and `self.age` and then we accessed them outside the `class` by replacing `self` with the name of the `instance` of the `class`, `steve.name` and `steve.age`.\n",
    "\n",
    "Now time for the rule."
   ]
  },
  {
   "cell_type": "code",
   "execution_count": 51,
   "metadata": {},
   "outputs": [
    {
     "name": "stdout",
     "output_type": "stream",
     "text": [
      "Hello my name is Steve\n"
     ]
    }
   ],
   "source": [
    "class Person:\n",
    "    def __init__(self, name, age):\n",
    "        self.name = name\n",
    "        self.age = age\n",
    "\n",
    "    def say_hello(self):\n",
    "        print(\"Hello my name is \" + self.name)\n",
    "\n",
    "steve = Person(\"Steve\", 22)\n",
    "steve.say_hello()"
   ]
  },
  {
   "cell_type": "markdown",
   "metadata": {},
   "source": [
    "The rule is that we need to pass `self` as a `parameter` in every `method` of a `class`. In the `say)_hello` `method` we passed `self` as a `parameter` and then we used `self.name` to access the `name` `variable` of the `instance` of the `class`.\n",
    "\n",
    "the data flow is like this.\n",
    "\n",
    "`steve.name` -> `self.name` -> `name` `parameter` of the `__init__` `method` -> `name` `variable` of the `instance` of the `class`.\n",
    "\n",
    "let's talk about \n",
    "\n",
    "# Attributes and Methods\n",
    "\n",
    "`Attributes` are the `variables` of a `class` and `methods` are the `functions` of a `class`. that's it.\n"
   ]
  },
  {
   "cell_type": "code",
   "execution_count": 52,
   "metadata": {},
   "outputs": [
    {
     "name": "stdout",
     "output_type": "stream",
     "text": [
      "Hello my name is Steve\n",
      "I am 22 years old\n"
     ]
    }
   ],
   "source": [
    "class Person:\n",
    "    def __init__(self, name, age):\n",
    "        self.name = name # self.name is an attribute of the class Person\n",
    "        self.age = age # self.age is an attribute of the class Person\n",
    "\n",
    "    def say_hello(self): # self_hello is a method of the class Person\n",
    "        print(\"Hello my name is \" + self.name)\n",
    "\n",
    "    def say_age(self): # self.say_age is a method of the class Person\n",
    "        print(\"I am \" + str(self.age) + \" years old\")\n",
    "\n",
    "steve = Person(\"Steve\", 22) # steve is an instance of the class Person\n",
    "steve.say_hello() # calling the method say_hello() of the class Person\n",
    "steve.say_age() # calling the method say_age() of the class Person"
   ]
  },
  {
   "cell_type": "markdown",
   "metadata": {},
   "source": [
    "# OOP Object Oriented Programming\n",
    "\n",
    "`OOP` is a programming paradigm. It is a way of writing code. It is not a programming language.\n",
    "\n",
    "There are many programming `paradigms` like `OOP`, `Functional Programming`, `Procedural Programming`, etc. But `OOP` is the most popular one.\n",
    "\n",
    "`OOP` is based on the concept of `objects`. Everything is an `object` in `OOP` and how a `object` interacts with another `object` is the main concept of `OOP`.\n",
    "\n",
    "`OOP` is based on 5 main concepts.\n",
    "\n",
    "1. `Objects and Classes`\n",
    "2. `Encapsulation`\n",
    "3. `Inheritance`\n",
    "4. `Polymorphism`\n",
    "5. `Abstraction`\n",
    "\n",
    "We will learn about them one by one.\n",
    "\n",
    "# Objects and Classes\n",
    "\n",
    "`Classes` are the `blueprints` of an `object`. `Classes` are used to create `objects`. They are `user defined data types`.\n",
    "\n",
    "when we create a `class` we are actually creating a new `data type` which we can use to create `objects`.\n",
    "\n",
    "`objects` are the `instances` of a `class`. "
   ]
  },
  {
   "cell_type": "code",
   "execution_count": 53,
   "metadata": {},
   "outputs": [],
   "source": [
    "class class_name: # class_name is the name of the class\n",
    "    def __init__(self) -> None: # called automatically when an object is created\n",
    "        pass\n",
    "\n",
    "    def some_method(self): # some_method is a method of the class class_name\n",
    "        pass\n",
    "\n",
    "instance = class_name() # created an object with data type class_name"
   ]
  },
  {
   "cell_type": "markdown",
   "metadata": {},
   "source": [
    "So the `variable` `instance` of the `class_name` is the `object` of the `class_name` `class`.\n",
    "\n",
    "When you create the `object` of a `class` you can access the `attributes` and `methods` of the `class` using the `dot operator`.\n",
    "\n",
    "# Encapsulation\n",
    "\n",
    "`Encapsulation` is the process of binding the `data` and the `methods` that operate on that `data` together in a `class`. It is also called `data hiding`. \n",
    "\n",
    "`Encapsulation` is used to hide the `data` from the outside world. It is used to protect the `data` from the outside world.\n",
    "\n",
    "`Encapsulation` is used to make the `code` more `flexible` and `maintainable`. It is also used to make the `code` more `secure`.\n",
    "\n",
    "It is a very important concept in `OOP`, because it is a widely used data hiding technique.\n",
    "\n",
    "## Encapsulation in Python\n",
    "\n",
    "`Encapsulation` is not enforced in `python`. It is not a `language feature` in `python`. It is just a `convention` in `python`. \n",
    "\n",
    "To use `Encapsulation` in `python` we use `double underscore` before the `attribute` name. This will make the `attribute` `private` meaning the `attribute` can only be accessed inside the `class` Not outside the `class`."
   ]
  },
  {
   "cell_type": "code",
   "execution_count": 55,
   "metadata": {},
   "outputs": [
    {
     "name": "stdout",
     "output_type": "stream",
     "text": [
      "BMW\n",
      "red\n"
     ]
    },
    {
     "ename": "AttributeError",
     "evalue": "'Car' object has no attribute '__mileage'",
     "output_type": "error",
     "traceback": [
      "\u001b[0;31m---------------------------------------------------------------------------\u001b[0m",
      "\u001b[0;31mAttributeError\u001b[0m                            Traceback (most recent call last)",
      "\u001b[1;32m/home/rishat/Desktop/python-master/OBJECT_ORIENTED_PRORGAMMING/readme.ipynb Cell 22\u001b[0m line \u001b[0;36m1\n\u001b[1;32m      <a href='vscode-notebook-cell:/home/rishat/Desktop/python-master/OBJECT_ORIENTED_PRORGAMMING/readme.ipynb#X56sZmlsZQ%3D%3D?line=8'>9</a>\u001b[0m \u001b[39mprint\u001b[39m(bmw\u001b[39m.\u001b[39mname)\n\u001b[1;32m     <a href='vscode-notebook-cell:/home/rishat/Desktop/python-master/OBJECT_ORIENTED_PRORGAMMING/readme.ipynb#X56sZmlsZQ%3D%3D?line=9'>10</a>\u001b[0m \u001b[39mprint\u001b[39m(bmw\u001b[39m.\u001b[39mcolor)\n\u001b[0;32m---> <a href='vscode-notebook-cell:/home/rishat/Desktop/python-master/OBJECT_ORIENTED_PRORGAMMING/readme.ipynb#X56sZmlsZQ%3D%3D?line=10'>11</a>\u001b[0m \u001b[39mprint\u001b[39m(bmw\u001b[39m.\u001b[39;49m__mileage)\n",
      "\u001b[0;31mAttributeError\u001b[0m: 'Car' object has no attribute '__mileage'"
     ]
    }
   ],
   "source": [
    "class Car:\n",
    "    def __init__(self, name, color, mileage):\n",
    "        self.name = name\n",
    "        self.color = color\n",
    "        self.__mileage = mileage\n",
    "\n",
    "\n",
    "bmw = Car(\"BMW\", \"red\", 10000)\n",
    "print(bmw.name)\n",
    "print(bmw.color)\n",
    "print(bmw.__mileage) # this will give an error|\n"
   ]
  },
  {
   "cell_type": "markdown",
   "metadata": {},
   "source": [
    "As you can see the `__mileage` `attribute` is `private` and it can only be accessed inside the `class` not outside the `class`."
   ]
  },
  {
   "cell_type": "code",
   "execution_count": 56,
   "metadata": {},
   "outputs": [
    {
     "name": "stdout",
     "output_type": "stream",
     "text": [
      "The BMW is red in color. It has 10000 miles.\n"
     ]
    }
   ],
   "source": [
    "class Car:\n",
    "    def __init__(self, name, color, mileage):\n",
    "        self.name = name\n",
    "        self.color = color\n",
    "        self.__mileage = mileage\n",
    "\n",
    "    def description(self):\n",
    "        print(\"The \" + self.name + \" is \" + self.color + \" in color.\" + \" It has \" + str(self.__mileage) + \" miles.\")\n",
    "\n",
    "bmw = Car(\"BMW\", \"red\", 10000)\n",
    "bmw.description()"
   ]
  },
  {
   "cell_type": "markdown",
   "metadata": {},
   "source": [
    "In the previous example `bmw.__mileage` gave us an error but now `bmw.description` not giving us any Error. Because `description` is not a `private` `attribute` and using the `description` Method we are really accessing the `__mileage` `attribute` inside the `class`. So, data is still hidden from the outside world.\n",
    "\n",
    "Now you might be thinking that if we can access the `private` `attribute` outside the `class` then what is the point of making it `private`.\n",
    "\n",
    "The answer is that we can access the `private` `attribute` outside the `class` but we can't modify it. We can only modify it inside the `class`.\n",
    "\n",
    "The method I used to get the `__mileage` `attribute` is called `getter` method. It is used to get the `private` `attribute` outside the `class`.\n",
    "\n",
    "\n",
    "To modify the `private` `attribute` we use `setter` method. It is used to set the `private` `attribute` from outside the `class`.\n",
    "\n",
    "\n",
    "\n"
   ]
  },
  {
   "cell_type": "code",
   "execution_count": 57,
   "metadata": {},
   "outputs": [
    {
     "name": "stdout",
     "output_type": "stream",
     "text": [
      "The BMW is red in color. It has 10000 miles.\n",
      "The BMW is red in color. It has 10100 miles.\n"
     ]
    }
   ],
   "source": [
    "class Car:\n",
    "    def __init__(self, name, color, mileage):\n",
    "        self.name = name\n",
    "        self.color = color\n",
    "        self.__mileage = mileage\n",
    "\n",
    "    def description(self):\n",
    "        print(\"The \" + self.name + \" is \" + self.color + \" in color.\" + \" It has \" + str(self.__mileage) + \" miles.\")\n",
    "\n",
    "    def set_mileage(self, mileage):\n",
    "        self.__mileage += mileage\n",
    "\n",
    "bmw = Car(\"BMW\", \"red\", 10000)\n",
    "bmw.description()\n",
    "bmw.set_mileage(100)\n",
    "bmw.description()"
   ]
  },
  {
   "cell_type": "markdown",
   "metadata": {},
   "source": [
    "By simply adding a `method` inside the `class` we can modify any private data of the `class` from outside the `class`.\n",
    "\n",
    "You can clearly see that the `__mileage` attribute has changed from `10000` to `10100` because we used the `set_mileage` method to change the `__mileage` attribute that have `mileage` as a `parameter` and we have to pass the `mileage` `argument` to the `set_mileage` `method` to change the `__mileage` attribute or we will get an error. The passed argument will be stored in the `mileage` `parameter` of the `set_mileage` `method`.\n",
    "\n",
    "Then the internal logic of the `set_mileage` `method` will change the `__mileage` attribute to the `mileage` `parameter`. \n",
    "\n",
    "the `car.set_mileage(100)` is passing `100` as a `mileage` `argument` to the `set_mileage` `method` and then the `set_mileage` `method` is changing the `__mileage` attribute to `100`.\n",
    "\n",
    "Here is the main\n",
    "\n",
    "# Getter and Setter Methods\n",
    "\n",
    "`Getter` and `Setter` methods are used to get and set the `private` `attributes` of a `class` from outside the `class`.\n",
    "\n",
    "`Getter` method is used to get the `private` `attribute` of a `class` from outside the `class`.\n",
    "\n",
    "`Setter` method is used to set the `private` `attribute` of a `class` from outside the `class`."
   ]
  },
  {
   "cell_type": "code",
   "execution_count": 58,
   "metadata": {},
   "outputs": [
    {
     "data": {
      "text/plain": [
       "10100"
      ]
     },
     "execution_count": 58,
     "metadata": {},
     "output_type": "execute_result"
    }
   ],
   "source": [
    "class Car:\n",
    "    def __init__(self, name, color, mileage):\n",
    "        self.name = name\n",
    "        self.color = color\n",
    "        self.__mileage = mileage\n",
    "\n",
    "    def description(self):\n",
    "        print(\"The \" + self.name + \" is \" + self.color + \" in color.\" + \" It has \" + str(self.__mileage) + \" miles.\")\n",
    "\n",
    "    def set_mileage(self, mileage):\n",
    "        self.__mileage += mileage\n",
    "\n",
    "    def get_mileage(self):\n",
    "        return self.__mileage\n",
    "    \n",
    "bmw = Car(\"BMW\", \"red\", 10000)\n",
    "bmw.get_mileage()\n",
    "bmw.set_mileage(100)\n",
    "bmw.get_mileage()"
   ]
  },
  {
   "cell_type": "markdown",
   "metadata": {},
   "source": [
    "This is `Encapsulation` in `python`. Little Recap:\n",
    "- private attribute.\n",
    "- access private attribute using getter method.\n",
    "- modify private attribute using setter method.\n",
    "\n",
    "# Inheritance\n",
    "\n",
    "`Inheritance` is the process by which one `class` can inherit the `attributes` and `methods` of another `class`. It is also called `code reuseability`. \n",
    "\n",
    "The class that inherits the `attributes` and `methods` of another `class` is called `child class` or `sub class` and the class from which the `attributes` and `methods` are inherited is called `parent class` or `super class`.\n",
    "\n",
    "Each subclass only has to `define` the `attributes` and `methods` that make it unique. It can use all the `attributes` and `methods` of the `parent class`.\n",
    "\n",
    "there are many benefits of `inheritance` like `code reuseability`, `flexibility`, `maintainability`, etc.\n",
    "\n",
    "There are 4 types of inheritance:\n",
    "\n",
    "- `Single Inheritance`\n",
    "\n",
    "- `Multiple Inheritance`\n",
    "\n",
    "- `Multilevel Inheritance`\n",
    "\n",
    "- `Hierarchical Inheritance`\n",
    "\n",
    "We will learn about them one by one.\n",
    "\n",
    "## Inheritance in Python\n",
    "\n",
    "Python supports all the 4 types of `inheritance`. But we will learn about `Single Inheritance` first.\n",
    "\n",
    "Before that how to inherit in `python`."
   ]
  },
  {
   "cell_type": "code",
   "execution_count": 59,
   "metadata": {},
   "outputs": [],
   "source": [
    "class parent_class_name:\n",
    "    def __init__(self) -> None:\n",
    "        pass\n",
    "\n",
    "class child_class_name(parent_class_name): # child_class_name inherits from parent_class_name\n",
    "    def __init__(self) -> None:\n",
    "        super().__init__() # this will call the __init__() method of the parent class\n",
    "        pass\n",
    "    "
   ]
  },
  {
   "cell_type": "markdown",
   "metadata": {},
   "source": [
    "SO, one class can `inherit` another class by passing the `parent class` as a `parameter` in the `child class`.\n",
    "\n",
    "and to access the `attributes` and `methods` of the `parent class` we use the `super()` `method`.\n",
    "\n",
    "It's like telling `python` to use the `attributes` and `methods` of the `parent class` in the `child class`. That's why `super().__init__()` is used to call the `__init__` `method` of the `parent class` in the `child class`.\n",
    "\n",
    "Lets see another example:\n",
    "\n",
    "# Single Inheritance"
   ]
  },
  {
   "cell_type": "code",
   "execution_count": 60,
   "metadata": {},
   "outputs": [
    {
     "name": "stdout",
     "output_type": "stream",
     "text": [
      "My name is Steve. I am 22 years old.\n",
      "My name is Steve. I am 22 years old. My roll number is 1\n"
     ]
    }
   ],
   "source": [
    "class Person:\n",
    "    def __init__(self, name, age):\n",
    "        self.name = name\n",
    "        self.age = age\n",
    "\n",
    "    def description(self):\n",
    "        print(\"My name is \" + self.name + \". I am \" + str(self.age) + \" years old.\")\n",
    "\n",
    "class Student(Person): # Student inherits from Person\n",
    "    def __init__(self, name, age, roll_no):\n",
    "        super().__init__(name, age) # this will call the __init__() method of the parent class\n",
    "        self.roll_no = roll_no\n",
    "\n",
    "    def description_of_the_student(self):\n",
    "        print(\"My name is \" + self.name + \". I am \" + str(self.age) + \" years old. My roll number is \" + str(self.roll_no))\n",
    "\n",
    "steve = Student(\"Steve\", 22, 1)\n",
    "steve.description() # calling the method description() of the parent class\n",
    "steve.description_of_the_student() # calling the method description_of_the_student() of the child class\n"
   ]
  },
  {
   "cell_type": "markdown",
   "metadata": {},
   "source": [
    "\n",
    "in this example `Student` is the `child class` and `Person` is the `parent class`.\n",
    "\n",
    "`Student` inherits from `Person` by passing `Person` as a `parameter` in the `Student` `class`.\n",
    "\n",
    "`super().__init__(name, age)` is used to call the `__init__` `method` of the `parent class` in the `child class` which contains the `name` and `age` `attributes`.\n",
    "\n",
    "then we are using the `description()` `method` of the `parent class` in the `child class` to print the `name` and `age` `attributes` and this works because we have inherited the `description()` `method` from the `parent class`.\n",
    "\n",
    "then we are using the `description_of_the_student()` `method` of the `child class` to print the `name`, `age` and `roll_no` `attributes` and this works because we have defined the `description_of_the_student()` `method` in the `child class` and just like I said earlier the `child class` only has to `define` the `attributes` and `methods` that make it unique. It can use all the `attributes` and `methods` of the `parent class`.\n",
    "\n",
    "So, child class has its own unique `attributes` and `methods` and it can also use the `attributes` and `methods` of the `parent class`.\n",
    "\n",
    "But what happens if we have two `classes` and both of them have the same `attributes` or `classes` and we want to inherit both of them in a `child class`.\n",
    "\n",
    "Lets see an example:\n",
    "\n",
    "\n"
   ]
  },
  {
   "cell_type": "code",
   "execution_count": 61,
   "metadata": {},
   "outputs": [
    {
     "name": "stdout",
     "output_type": "stream",
     "text": [
      "My name is Steve. I am 22 years old. My roll number is 1\n",
      "My name is Steve. I am 22 years old. My roll number is 1\n"
     ]
    }
   ],
   "source": [
    "class Person:\n",
    "    def __init__(self, name, age):\n",
    "        self.name = name\n",
    "        self.age = age\n",
    "\n",
    "    def description(self):\n",
    "        print(\"My name is \" + self.name + \". I am \" + str(self.age) + \" years old.\")\n",
    "\n",
    "class Student(Person): # Student inherits from Person\n",
    "    def __init__(self, name, age, roll_no):\n",
    "        super().__init__(name, age) # this will call the __init__() method of the parent class\n",
    "        self.roll_no = roll_no\n",
    "\n",
    "    def description(self):\n",
    "        print(\"My name is \" + self.name + \". I am \" + str(self.age) + \" years old. My roll number is \" + str(self.roll_no))\n",
    "\n",
    "steve = Student(\"Steve\", 22, 1)\n",
    "steve.description() # calling the method description() of the child class\n",
    "steve.description()"
   ]
  },
  {
   "cell_type": "markdown",
   "metadata": {},
   "source": [
    "The `child class` overwrites the `method` of the `parent class` that has the same name. So, the `child class` `method` is used instead of the `parent class` `method`. We call this `method overriding`.\n",
    "\n",
    "> Overriding is the ability of a class to change the implementation of a method provided by one of its ancestors.\n",
    "\n",
    "To resolve this problem we use `super()` `method` to call the `parent class` `method` in the `child class` `method`.\n",
    "\n"
   ]
  },
  {
   "cell_type": "code",
   "execution_count": 62,
   "metadata": {},
   "outputs": [
    {
     "name": "stdout",
     "output_type": "stream",
     "text": [
      "My name is Steve. I am 22\n",
      "My name is Steve. I am 22 years old.\n"
     ]
    }
   ],
   "source": [
    "class Student(Person): # Student inherits from Person\n",
    "    def __init__(self, name, age, roll_no):\n",
    "        super().__init__(name, age) # this will call the __init__() method of the parent class\n",
    "        self.roll_no = roll_no\n",
    "\n",
    "    def description(self):\n",
    "        print(\"My name is \" + self.name + \". I am \" + str(self.age) )\n",
    "              \n",
    "    def description_of_the_parent(self):\n",
    "        super().description()\n",
    "\n",
    "steve = Student(\"Steve\", 22, 1)\n",
    "steve.description() # calling the method description() of the child class\n",
    "steve.description_of_the_parent() # calling the method description() of the parent class"
   ]
  },
  {
   "cell_type": "markdown",
   "metadata": {},
   "source": [
    "This is how we can `resolve` the `method overriding` problem. But its a little `reduntant` becasue we making a new `method` in the `child class` just to call the `parent class` `method`.\n",
    "\n",
    "I prefer a better `naming convention` for the `child class` `method` to `resolve` the `method overriding` problem. So that the `method` name is different from the `parent class` `method` name and use `override` in the `child class` `method` name when you want to change a specific `part` of the `parent class` `method`.\n",
    "\n",
    "so this was `Single Inheritance` in `python`. `Single Inheritance` is the simplest type of `inheritance` and `most used` type of `inheritance`. \n",
    "\n",
    "Now, lets learn about `Multiple Inheritance`.\n",
    "\n",
    "# Multiple Inheritance\n",
    "\n",
    "`Multiple Inheritance` is a process where the `child class` inherits from more than one `parent class`.\n",
    "\n",
    "`Multiple Inheritance` has the same concept as `Single Inheritance`. The only difference is that in `Multiple Inheritance` the `child class` inherits from more than one `parent class`."
   ]
  },
  {
   "cell_type": "code",
   "execution_count": 63,
   "metadata": {},
   "outputs": [
    {
     "name": "stdout",
     "output_type": "stream",
     "text": [
      "Name: Steve ,Age: 22\n",
      "Job title: Software Developer ,Salary: 50000\n"
     ]
    }
   ],
   "source": [
    "class Person:\n",
    "    def __init__(self, name, age):\n",
    "        self.name = name\n",
    "        self.age = age\n",
    "\n",
    "    def display_info(self):\n",
    "        print(f\"Name: {self.name} ,Age: {self.age}\")\n",
    "\n",
    "class Job:\n",
    "    def __init__(self, job_title, salary):\n",
    "        self.job_title = job_title\n",
    "        self.salary = salary\n",
    "\n",
    "    def display_info(self):\n",
    "        print(f\"Job title: {self.job_title} ,Salary: {self.salary}\") \n",
    "\n",
    "        \n",
    "class Employee(Person, Job):\n",
    "    def __init__(self, name, age, job_title, salary):\n",
    "        Person.__init__(self, name, age)\n",
    "        Job.__init__(self, job_title, salary)\n",
    "\n",
    "    def display_info(self):\n",
    "        Person.display_info(self)\n",
    "        Job.display_info(self)\n",
    "\n",
    "employee = Employee(\"Steve\", 22, \"Software Developer\", 50000)\n",
    "employee.display_info()"
   ]
  },
  {
   "cell_type": "markdown",
   "metadata": {},
   "source": [
    "In this example `Employee` is the `child class` and `Person` and `Job` are the `parent classes`.  `Employee` inherits from `Person` and `Job` by passing `Person` and `Job` as a `parameter` in the `Employee` `class`.\n",
    "\n",
    "Here are some things to notice:\n",
    "\n",
    "- `Employee` inherits from `Person` and `Job` by passing `Person` and `Job` as a `parameter` in the `Employee` `class`.\n",
    "\n",
    "- `Employee` has its own `__init__` `method` and it calls the `__init__` `method` of the `parent classes` to inherit the `attributes` of the `parent classes`.\n",
    "\n",
    "- In the `display_info` method of the `Employee` `class` we are calling the `display_info` `method` of the `parent classes`  by specifying the `parent class` name and passing `self` as a `parameter` in the `display_info` `method` to inherit the `methods` of the `parent classes`.\n",
    "\n",
    "I did this on purpose to make you understand that when to use `super()` `method` and when to use `parent class` name to inherit the `attributes` and `methods` of the `parent classes`.\n",
    "\n",
    "Here the `employee` `class` overwrites the `display_info` method of the `parent classes` that has the same name. SO, we have to follow this `process` to `resolve` the `method overriding` problem and use the `display_info` `method` of the `parent classes`.\n",
    "\n",
    "Id we had a better `naming convention` for the `display_info` `methods` in the classes then we could have used the simpler `process` to `resolve` the `method overriding` problem. \n"
   ]
  },
  {
   "cell_type": "code",
   "execution_count": 64,
   "metadata": {},
   "outputs": [
    {
     "name": "stdout",
     "output_type": "stream",
     "text": [
      "Name: Steve ,Age: 22\n",
      "Job title: Software Developer ,Salary: 50000\n"
     ]
    }
   ],
   "source": [
    "class Person:\n",
    "    def __init__(self, name, age):\n",
    "        self.name = name\n",
    "        self.age = age\n",
    " \n",
    "    def display_person_info(self): # changed the name of the method from display_info() to display_person_info()\n",
    "        print(f\"Name: {self.name} ,Age: {self.age}\")\n",
    "\n",
    "class Job:\n",
    "    def __init__(self, job_title, salary):\n",
    "        self.job_title = job_title\n",
    "        self.salary = salary\n",
    "\n",
    "    def display_job_info(self): # changed the name of the method from display_info() to display_job_info()\n",
    "        print(f\"Job title: {self.job_title} ,Salary: {self.salary}\")\n",
    "\n",
    "class Employee(Person, Job):\n",
    "    def __init__(self, name, age, job_title, salary):\n",
    "        Person.__init__(self, name, age) \n",
    "        Job.__init__(self, job_title, salary)\n",
    "\n",
    "    def display_employee_info(self): \n",
    "        self.display_person_info() # no need to use Person.display_info(self)\n",
    "        self.display_job_info() # no need to use Job.display_info(self)\n",
    "\n",
    "employee = Employee(\"Steve\", 22, \"Software Developer\", 50000)\n",
    "employee.display_employee_info()"
   ]
  },
  {
   "cell_type": "markdown",
   "metadata": {},
   "source": [
    "Now that we resolved the `overriding issue` we don't need to specify the `class name` where the `method` is defined. We can just use `self.display_person_info()` and `self.display_job_info()` inside the `display_info` `method` of the `Employee` `class` because the `display_person_info` and `display_job_info` `methods` are defined in the `Employee` `class` when it inherited from the `Person` and `Job` `classes`.\n",
    "\n"
   ]
  },
  {
   "cell_type": "markdown",
   "metadata": {},
   "source": []
  },
  {
   "cell_type": "code",
   "execution_count": null,
   "metadata": {},
   "outputs": [],
   "source": []
  }
 ],
 "metadata": {
  "kernelspec": {
   "display_name": "ml_env",
   "language": "python",
   "name": "python3"
  },
  "language_info": {
   "codemirror_mode": {
    "name": "ipython",
    "version": 3
   },
   "file_extension": ".py",
   "mimetype": "text/x-python",
   "name": "python",
   "nbconvert_exporter": "python",
   "pygments_lexer": "ipython3",
   "version": "3.10.13"
  }
 },
 "nbformat": 4,
 "nbformat_minor": 2
}
