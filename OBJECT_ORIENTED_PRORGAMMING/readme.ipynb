{
 "cells": [
  {
   "cell_type": "markdown",
   "metadata": {},
   "source": [
    "# Object Oriented Programming\n",
    "# ==========================\n",
    "\n",
    "\n",
    "In this notebook we will learn about object oriented programming in Python. We will learn about classes, objects, methods, inheritance, and some special methods like `__init__`.\n",
    "\n",
    "## Classes\n",
    "\n",
    "Classes are a way to take data and functions and bundle them together. For example, we can create a class called `Dog` that has functions like `bark()` and `eat()`, and data like `name` and `age`. We can then create instances of the class, like `my_dog` and `your_dog`, and call the functions on them.\n",
    "\n",
    "### Defining a class"
   ]
  },
  {
   "cell_type": "code",
   "execution_count": 14,
   "metadata": {},
   "outputs": [],
   "source": [
    "class ClassName:\n",
    "    def __init__(self):\n",
    "        pass\n",
    "    \n",
    "    def method_name(self):\n",
    "        pass\n"
   ]
  },
  {
   "cell_type": "markdown",
   "metadata": {},
   "source": [
    "in python the a `class` is defined using the `class` keyword. The name of the class is capitalized by convention.\n",
    "\n",
    "```python\n",
    "class Dog:\n",
    "    pass\n",
    "```\n",
    "\n",
    "### Creating an instance of a class\n",
    "\n"
   ]
  },
  {
   "cell_type": "code",
   "execution_count": 15,
   "metadata": {},
   "outputs": [],
   "source": [
    "class Dog:\n",
    "    def __init__(self, name, age):\n",
    "        self.name = name\n",
    "        self.age = age\n",
    "\n",
    "    def bark(self):\n",
    "        print(f\"{self.name} is barking\")\n",
    "\n",
    "\n",
    "dog = Dog(\"Buddy\", 9)"
   ]
  },
  {
   "cell_type": "markdown",
   "metadata": {},
   "source": [
    "An instance of a class is just a `variable` that contains the data and functions defined in the class.\n",
    "\n",
    "if you want to create an instance of a class, you call the class like a function. This is called the constructor. The constructor is a special method that is called when you create an instance of a class. The constructor method is called `__init__` (two underscores on each side). we will have a more detailed look at the constructor later. \n",
    "\n",
    "For now you just keep in mind that when you create an instance of a class, the `__init__` is called, autometically.\n",
    "\n",
    "there are more terminology that you need to know about classes.\n",
    "\n",
    "- **class**: a blueprint for creating new objects\n",
    "- **instance**: a new object created from a class\n",
    "- **method**: a function defined in a class\n",
    "- **attribute**: a variable bound to an instance of a class\n",
    "\n",
    "### Methods\n",
    "\n",
    "Methods are functions that are defined in a class. They are used to perform operations on the data in the class. For example, we can define a method called `bark()` that prints \"woof\" to the screen.\n"
   ]
  },
  {
   "cell_type": "code",
   "execution_count": 16,
   "metadata": {},
   "outputs": [
    {
     "name": "stdout",
     "output_type": "stream",
     "text": [
      "woof\n"
     ]
    }
   ],
   "source": [
    "class Dog:\n",
    "    def __init__(self, name, age):\n",
    "        self.name = name\n",
    "        self.age = age\n",
    "\n",
    "    def bark(self):\n",
    "        print(f\"woof\")\n",
    "\n",
    "\n",
    "dog = Dog(\"Buddy\", 9)\n",
    "dog.bark()"
   ]
  },
  {
   "cell_type": "markdown",
   "metadata": {},
   "source": [
    "To call a function on an instance of a class, you use the `.` operator. For example, to call the `bark()` method on the `my_dog` instance, you would write `my_dog.bark()`.\n",
    "\n",
    "### Attributes\n",
    "\n",
    "Attributes are variables that are bound to an instance of a class. For example, we can define an attribute called `name` that stores the name of the dog. We can then access the attribute using the `.` operator. For example, to access the `name` attribute of the `my_dog` instance, you would write `my_dog.name`.\n"
   ]
  },
  {
   "cell_type": "code",
   "execution_count": 17,
   "metadata": {},
   "outputs": [
    {
     "data": {
      "text/plain": [
       "'Buddy'"
      ]
     },
     "execution_count": 17,
     "metadata": {},
     "output_type": "execute_result"
    }
   ],
   "source": [
    "dog = Dog(\"Buddy\", 9)\n",
    "dog.name"
   ]
  },
  {
   "cell_type": "markdown",
   "metadata": {},
   "source": [
    "as you can see the `name` attribute is a variable that is bound to the `my_dog` instance. We can change the value of the `name` attribute by assigning a new value to it. For example, we can change the name of the dog to \"Fido\" by writing `my_dog.name = \"Fido\"`. We can also access the `name` attribute of the `your_dog` instance by writing `your_dog.name`."
   ]
  },
  {
   "cell_type": "code",
   "execution_count": 18,
   "metadata": {},
   "outputs": [
    {
     "name": "stdout",
     "output_type": "stream",
     "text": [
      "Buddy\n"
     ]
    },
    {
     "data": {
      "text/plain": [
       "10"
      ]
     },
     "execution_count": 18,
     "metadata": {},
     "output_type": "execute_result"
    }
   ],
   "source": [
    "print(dog.name)\n",
    "dog.age = 10\n",
    "dog.age"
   ]
  },
  {
   "cell_type": "markdown",
   "metadata": {},
   "source": [
    "## __init__\n",
    "\n",
    "In the previous section, we learned how to create a class and how to create instances of the class. We also learned how to define methods and attributes. However, we did not learn how to initialize the attributes of the class. For example, we did not learn how to set the `name` attribute of the `Dog` class to \"Fido\". \n",
    "\n",
    "In this section, we will learn how to initialize the attributes of a class using the `__init__` method.\n",
    "\n",
    "The `__init__` method is a special method that is called when you create an instance of a class. The `__init__` method is called the constructor method. The `__init__` method is used to initialize the attributes of the class. For example, we can initialize the `name` attribute of the `Dog` class to \"Fido\" by writing `self.name = \"Fido\"` in the `__init__` method.\n",
    "\n",
    "It's like starting a car. When you start a car, you have to initialize the attributes of the car. For example, you have to initialize the `color` attribute of the car to \"red\" and the `make` attribute of the car to \"Toyota\". You can initialize the attributes of the car by writing `self.color = \"red\"` and `self.make = \"Toyota\"` in the `__init__` method.\n",
    "\n",
    "### `Self` keyword\n",
    "\n",
    "The `self` keyword is used to refer to the instance of the class. For example, if you want to access the `name` attribute of the `Dog` class, you would write `self.name`.\n",
    "\n",
    "so, whenever you want to access the attributes of the class, you use the `self` keyword. For example, if you want to access the `name` attribute of the `Dog` class, you would write `self.name`. Its like saying \"I want to access the `name` attribute of the `Dog` class\".\n",
    "\n",
    "now lets talk about `OOP` in python.\n",
    "\n",
    "# Object Oriented Programming in Python\n",
    "\n",
    "Python is an object oriented programming language. This means that everything in Python is an object. This means that everything in Python has attributes and methods. For example, the `str` class has attributes like `upper()` and `lower()` and methods like `capitalize()` and `title()`.\n",
    "\n",
    "To be more specific, everything in Python is an instance of a class. For example, the `str` class is a class that is used to create strings. For example, the string \"hello\" is an instance of the `str` class. The string \"hello\" is an instance of the `str` class because it is created from the `str` class. For example, the string \"hello\" is created from the `str` class by writing `str(\"hello\")`.\n",
    "\n",
    "So, there is a `str` class written in python that has `methods` like `upper()` and `lower()` and `attributes` like `capitalize()` and `title()`. When you write `str(\"hello\")`, you are creating an instance of the `str` class. When you write `str(\"hello\").upper()`, you are calling the `upper()` method on the instance of the `str` class.\n",
    "\n",
    "So, in python everything is an object.\n",
    "\n",
    "But this not about exploring the python `built-in` classes. This is about creating our own classes and objects and how we can use `OOP` in python.\n",
    "\n",
    "First lets know more about `OOP`.\n",
    "\n",
    "There are four main concepts in `OOP`:\n",
    "\n",
    "- `Encapsulation`\n",
    "- `Abstraction`\n",
    "- `Inheritance`\n",
    "- `Polymorphism`\n",
    "\n",
    "## Encapsulation\n",
    "\n",
    "Encapsulation is the process of hiding the internal details of an object from the outside world. For example, when you create a class, you can hide the internal details of the class by using the `__` prefix. For example, you can hide the internal details of the `Dog` class by writing `__Dog` instead of `Dog`. This is the way we can make a data of a class private. \n",
    "\n",
    "lets see an example:\n"
   ]
  },
  {
   "cell_type": "code",
   "execution_count": 23,
   "metadata": {},
   "outputs": [
    {
     "name": "stdout",
     "output_type": "stream",
     "text": [
      "driving\n"
     ]
    },
    {
     "ename": "AttributeError",
     "evalue": "'car' object has no attribute '__name'",
     "output_type": "error",
     "traceback": [
      "\u001b[0;31m---------------------------------------------------------------------------\u001b[0m",
      "\u001b[0;31mAttributeError\u001b[0m                            Traceback (most recent call last)",
      "\u001b[1;32m/home/rishat/Desktop/python-master/OBJECT_ORIENTED_PRORGAMMING/readme.ipynb Cell 12\u001b[0m line \u001b[0;36m1\n\u001b[1;32m     <a href='vscode-notebook-cell:/home/rishat/Desktop/python-master/OBJECT_ORIENTED_PRORGAMMING/readme.ipynb#X13sZmlsZQ%3D%3D?line=11'>12</a>\u001b[0m car\u001b[39m.\u001b[39mcolor\n\u001b[1;32m     <a href='vscode-notebook-cell:/home/rishat/Desktop/python-master/OBJECT_ORIENTED_PRORGAMMING/readme.ipynb#X13sZmlsZQ%3D%3D?line=12'>13</a>\u001b[0m car\u001b[39m.\u001b[39mmileage\n\u001b[0;32m---> <a href='vscode-notebook-cell:/home/rishat/Desktop/python-master/OBJECT_ORIENTED_PRORGAMMING/readme.ipynb#X13sZmlsZQ%3D%3D?line=13'>14</a>\u001b[0m car\u001b[39m.\u001b[39;49m__name\n",
      "\u001b[0;31mAttributeError\u001b[0m: 'car' object has no attribute '__name'"
     ]
    }
   ],
   "source": [
    "class car:\n",
    "    def __init__(self, color, mileage):\n",
    "        self.color = color\n",
    "        self.mileage = mileage\n",
    "        self.__name = \"labas\" # private\n",
    "\n",
    "    def drive(self):\n",
    "        print(\"driving\")\n",
    "\n",
    "car = car(\"red\", 1000)\n",
    "car.drive()\n",
    "car.color\n",
    "car.mileage\n",
    "car.__name\n",
    "\n"
   ]
  },
  {
   "cell_type": "markdown",
   "metadata": {},
   "source": [
    "The error shows `AttributeError: 'car' object has no attribute '__name'` because we are trying to access the `__name` attribute of the `car` class. But the `__name` attribute is private. So, we can't access it from outside the class. But we can access it from inside the class. This is called `scope`.\n",
    "\n",
    "`scope` is the area of code where a variable can be accessed. For example, if you define a variable inside a function, you can only access it from inside the function. This is called `local scope`. If you define a variable outside a function, you can access it from inside the function. This is called `global scope`.\n",
    "\n",
    "So, we can access the `__name` attribute from inside the `car` class. But we can't access it from outside the `car` class.\n",
    "\n",
    "Encapsulation gives us the logic behind `getting` access to the `private` data of a class and change it. This is called `getter` and `setter` methods."
   ]
  },
  {
   "cell_type": "code",
   "execution_count": 27,
   "metadata": {},
   "outputs": [
    {
     "name": "stdout",
     "output_type": "stream",
     "text": [
      "driving\n",
      "name before:  labas\n",
      "name after:  naujas\n"
     ]
    }
   ],
   "source": [
    "class car:\n",
    "    def __init__(self, color, mileage):\n",
    "        self.color = color\n",
    "        self.mileage = mileage\n",
    "        self.__name = \"labas\" # private\n",
    "\n",
    "    def drive(self):\n",
    "        print(\"driving\")\n",
    "\n",
    "    def get_name(self):\n",
    "        return self.__name\n",
    "    \n",
    "    def set_name(self, name):\n",
    "        self.__name = name\n",
    "\n",
    "car = car(\"red\", 1000)\n",
    "car.drive()\n",
    "\n",
    "#getting the name by calling get method\n",
    "print(\"name before: \",car.get_name())\n",
    "\n",
    "#setting the name by calling set method\n",
    "car.set_name(\"naujas\")\n",
    "print(\"name after: \" ,car.get_name())\n"
   ]
  },
  {
   "cell_type": "markdown",
   "metadata": {},
   "source": [
    "So this is encapsulation. Hiding the internal details of a class from the outside world.\n",
    "\n",
    "Getting access to the private data of a class and change it using `getter` and `setter` methods. Its easy to understand but if you are `clever` this a very powerful concept which you can use to make your code more `secure` and `reliable`.\n",
    "\n",
    "## Abstraction\n",
    "\n"
   ]
  },
  {
   "cell_type": "code",
   "execution_count": null,
   "metadata": {},
   "outputs": [],
   "source": []
  }
 ],
 "metadata": {
  "kernelspec": {
   "display_name": "ml_env",
   "language": "python",
   "name": "python3"
  },
  "language_info": {
   "codemirror_mode": {
    "name": "ipython",
    "version": 3
   },
   "file_extension": ".py",
   "mimetype": "text/x-python",
   "name": "python",
   "nbconvert_exporter": "python",
   "pygments_lexer": "ipython3",
   "version": "3.10.13"
  }
 },
 "nbformat": 4,
 "nbformat_minor": 2
}
